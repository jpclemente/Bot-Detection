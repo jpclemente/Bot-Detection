{
 "cells": [
  {
   "cell_type": "markdown",
   "metadata": {},
   "source": [
    "# Deep Learning for Bot detection\n",
    "\n",
    "### Author: Javier Pérez Clemente"
   ]
  },
  {
   "cell_type": "code",
   "execution_count": 247,
   "metadata": {},
   "outputs": [],
   "source": [
    "import pandas as pd\n",
    "import numpy as np\n",
    "import os\n",
    "import json"
   ]
  },
  {
   "cell_type": "code",
   "execution_count": 276,
   "metadata": {},
   "outputs": [],
   "source": [
    "user_dtypes = {\n",
    "    'id': object, \n",
    "    'utc_offset': object\n",
    "}\n",
    "\n",
    "tweets_dtypes = {\n",
    "    'id': object, \n",
    "    'user_id': object,\n",
    "    'in_reply_to_status_id': object,\n",
    "    'in_reply_to_user_id': object,\n",
    "    'retweeted_status_id': object,\n",
    "    'geo': object\n",
    "}\n",
    "\n",
    "friends_dtypes = {\n",
    "    'source_id': object, \n",
    "    'target_id': object\n",
    "}\n",
    "\n",
    "followers_dtypes = {\n",
    "    'source_id': object, \n",
    "    'target_id': object\n",
    "}\n",
    "    \n",
    "root_dir = './data/cresci-2015.csv/'\n",
    "dirs = sorted(os.listdir(root_dir))\n",
    "\n",
    "df_users = pd.DataFrame()\n",
    "df_tweets = pd.DataFrame()\n",
    "df_friends = pd.DataFrame()\n",
    "df_followers = pd.DataFrame()\n",
    "\n",
    "for item in dirs:\n",
    "    if os.path.isdir(root_dir + item):\n",
    "        with open(root_dir + item + '/users.csv', 'rb') as users_file:\n",
    "            is_bot = 1 if item in ['INT.csv', 'FSF.csv', 'TWT.csv'] else 0\n",
    "            new_users = pd.read_csv(users_file, dtype = user_dtypes)\n",
    "            new_users['bot'] = is_bot\n",
    "            df_users = pd.concat([df_users, new_users])\n",
    "            \n",
    "#         with open(root_dir + item + '/tweets.csv', 'rb') as tweets_file:\n",
    "#             df_tweets = pd.concat([df_tweets, pd.read_csv(tweets_file, dtype = tweets_dtypes)])\n",
    "            \n",
    "#         with open(root_dir + item + '/friends.csv', 'rb') as friends_file:\n",
    "#             df_friends = pd.concat([df_friends, pd.read_csv(friends_file, dtype = friends_dtypes)])\n",
    "            \n",
    "#         with open(root_dir + item + '/followers.csv', 'rb') as followers_file:\n",
    "#             df_followers = pd.concat([df_followers, pd.read_csv(followers_file, dtype = followers_dtypes)])"
   ]
  },
  {
   "cell_type": "markdown",
   "metadata": {},
   "source": [
    "## Exploratory Data Analysis"
   ]
  },
  {
   "cell_type": "code",
   "execution_count": 277,
   "metadata": {},
   "outputs": [
    {
     "name": "stdout",
     "output_type": "stream",
     "text": [
      "(5301, 15)\n",
      "(5301, 68)\n"
     ]
    }
   ],
   "source": [
    "def to_binary(df, var):\n",
    "    df[var] = pd.to_numeric(df[var]).fillna(0)\n",
    "    return df\n",
    "\n",
    "def to_dummie(df, var):\n",
    "    var_dummies = pd.get_dummies(df.loc[:, var])\n",
    "    print(var_dummies.shape)\n",
    "    df.drop(var, axis=1, inplace=True)\n",
    "    df = pd.concat([df, var_dummies], axis=1)\n",
    "    return df\n",
    "\n",
    "def to_dummies(df, vars):\n",
    "    for var in vars:\n",
    "        df = to_dummie(df, var)\n",
    "    return df\n",
    "\n",
    "user_binary_vars = ['geo_enabled', 'profile_use_background_image', 'default_profile', 'default_profile_image', 'profile_background_tile', 'protected', 'verified']\n",
    "\n",
    "for var in user_binary_vars:\n",
    "    df_users = to_binary(df_users, var)\n",
    "    \n",
    "# tweet_binary_vars = ['truncated']\n",
    "# for var in tweet_binary_vars:\n",
    "#     df_tweets = to_binary(df_tweets, var)\n",
    "\n",
    "# Variables binarias\n",
    "df_users.loc[:, 'url'] = np.where(df_users['url'] is None, 0, 1)\n",
    "df_users.loc[:, 'profile_image_url'] = np.where(df_users['profile_image_url'] is None, 0, 1)\n",
    "df_users.loc[:, 'profile_banner_url'] = np.where(df_users['profile_banner_url'] is None, 0, 1)\n",
    "df_users.loc[:, 'descr_longr_5'] = np.where(df_users.loc[:,'description'].map(lambda x: len(str(x))) > 5, 1, 0)\n",
    "\n",
    "# Variables dummies\n",
    "df_users = to_dummies(df_users, ['lang', 'time_zone'])\n",
    "\n",
    "df_users.drop(['id','screen_name', 'name','created_at', 'location', 'profile_text_color', 'profile_sidebar_border_color','profile_image_url_https', 'profile_background_image_url_https', 'updated', 'dataset', 'description'], axis=1, inplace=True)"
   ]
  },
  {
   "cell_type": "markdown",
   "metadata": {},
   "source": [
    "### Variable \"description\""
   ]
  },
  {
   "cell_type": "code",
   "execution_count": 279,
   "metadata": {},
   "outputs": [
    {
     "data": {
      "text/plain": [
       "Text(0.5, 0, 'description greater than 5 chars')"
      ]
     },
     "execution_count": 279,
     "metadata": {},
     "output_type": "execute_result"
    },
    {
     "data": {
      "image/png": "[encoded data removed]",
      "text/plain": [
       "<Figure size 432x288 with 1 Axes>"
      ]
     },
     "metadata": {
      "needs_background": "light"
     },
     "output_type": "display_data"
    }
   ],
   "source": [
    "df_users.dtypes\n",
    "\n",
    "df_users.description.map(lambda x: len(str(x)))\n",
    "\n",
    "# Import the libraries\n",
    "import matplotlib.pyplot as plt\n",
    "import seaborn as sns\n",
    "\n",
    "# df_users.loc[:,'description'] = np.where(df_users.loc[:,'description'].map(lambda x: len(str(x))) > 5, 'long', 'short')\n",
    "\n",
    "df1 = df_users.loc[df_users['bot'] == 1]['descr_longr_5']\n",
    "df2 = df_users.loc[df_users['bot'] == 0]['descr_longr_5']\n",
    "\n",
    "\n",
    "# bots = df_users.loc[df_users['bot'] == 1]\n",
    "# humans = df_users.loc[df_users['bot'] == 0]\n",
    "\n",
    "# print(bots[bots.loc[:,'description'].map(lambda x: len(str(x))) > 5].shape)\n",
    "# print(bots[bots.loc[:,'description'].map(lambda x: len(str(x))) <= 5].shape)\n",
    "# print(humans[humans.loc[:,'description'].map(lambda x: len(str(x))) > 5].shape)\n",
    "# print(humans[humans.loc[:,'description'].map(lambda x: len(str(x))) <= 5].shape)\n",
    "\n",
    "plt.hist([df1, df2], bins = int(180/10), label=['bot', 'human'])\n",
    "\n",
    "# sns.distplot([df1, df2],\n",
    "#              bins=int(165/16.5))\n",
    "# Add labels\n",
    "plt.legend()\n",
    "plt.title('Histogram of Arrival Delays')\n",
    "plt.xlabel('description greater than 5 chars')"
   ]
  },
  {
   "cell_type": "markdown",
   "metadata": {},
   "source": [
    "## Training and testing division"
   ]
  },
  {
   "cell_type": "code",
   "execution_count": null,
   "metadata": {},
   "outputs": [],
   "source": [
    "from sklearn.model_selection import train_test_split\n",
    "\n",
    "# fix random seed for reproducibility\n",
    "seed = 7\n",
    "np.random.seed(seed)\n",
    "\n",
    "y = df_users.loc[:, 'bot']\n",
    "X = df_users.loc[:, df_users.columns != 'bot']\n",
    "\n",
    "X_train, X_remain, y_train, y_remain \\\n",
    "    = train_test_split(X, y, train_size=0.8)\n",
    "\n",
    "X_test, X_val, y_test, y_val \\\n",
    "    = train_test_split(X_remain, y_remain, test_size=0.5)"
   ]
  },
  {
   "cell_type": "code",
   "execution_count": null,
   "metadata": {},
   "outputs": [],
   "source": [
    "print(df_users.shape)\n",
    "print(X_train.shape)\n",
    "print(y_train.shape)\n",
    "print(X_test.shape)\n",
    "print(y_test.shape)\n",
    "print(X_val.shape)\n",
    "print(y_val.shape)"
   ]
  },
  {
   "cell_type": "markdown",
   "metadata": {},
   "source": [
    "## Model implementation"
   ]
  },
  {
   "cell_type": "code",
   "execution_count": null,
   "metadata": {},
   "outputs": [],
   "source": [
    "from keras.models import Sequential, Model\n",
    "from keras.layers import Input, Dense\n",
    "from keras.wrappers.scikit_learn import KerasClassifier\n",
    "from sklearn.model_selection import StratifiedKFold\n",
    "from sklearn.model_selection import cross_val_score\n",
    "import keras"
   ]
  },
  {
   "cell_type": "code",
   "execution_count": null,
   "metadata": {},
   "outputs": [],
   "source": [
    "def create_baseline():\n",
    "    # create model\n",
    "    model = Sequential()\n",
    "    model.add(Dense(64, input_dim=34, kernel_initializer='normal', activation='relu'))\n",
    "    model.add(Dense(1, kernel_initializer='normal', activation='sigmoid'))\n",
    "    # Compile model\n",
    "    model.compile(loss='binary_crossentropy', optimizer='adam', metrics=['accuracy'])\n",
    "    return model\n",
    "    \n",
    "\n",
    "# evaluate model with standardized dataset\n",
    "estimator = KerasClassifier(build_fn=create_baseline, epochs=100, batch_size=5, verbose=0)\n",
    "kfold = StratifiedKFold(n_splits=10, shuffle=True, random_state=seed)\n",
    "results = cross_val_score(estimator, X_train, y_train, cv=kfold)\n",
    "\n",
    "print(\"Results: %.2f%% (%.2f%%)\" % (results.mean()*100, results.std()*100))"
   ]
  },
  {
   "cell_type": "code",
   "execution_count": null,
   "metadata": {},
   "outputs": [],
   "source": [
    "# x_train and y_train are Numpy arrays --just like in the Scikit-Learn API.\n",
    "model.fit(X_train, y_train, epochs=5, batch_size=32)"
   ]
  },
  {
   "cell_type": "code",
   "execution_count": null,
   "metadata": {},
   "outputs": [],
   "source": [
    "df_users['location'].unique().__len__()"
   ]
  },
  {
   "cell_type": "code",
   "execution_count": null,
   "metadata": {},
   "outputs": [],
   "source": [
    "loss_and_metrics = model.evaluate(x_test, y_test, batch_size=128)"
   ]
  },
  {
   "cell_type": "code",
   "execution_count": 119,
   "metadata": {},
   "outputs": [
    {
     "ename": "NameError",
     "evalue": "name 'x_test' is not defined",
     "output_type": "error",
     "traceback": [
      "\u001b[0;31m---------------------------------------------------------------------------\u001b[0m",
      "\u001b[0;31mNameError\u001b[0m                                 Traceback (most recent call last)",
      "\u001b[0;32m<ipython-input-119-dd7bea78f917>\u001b[0m in \u001b[0;36m<module>\u001b[0;34m\u001b[0m\n\u001b[0;32m----> 1\u001b[0;31m \u001b[0mclasses\u001b[0m \u001b[0;34m=\u001b[0m \u001b[0mmodel\u001b[0m\u001b[0;34m.\u001b[0m\u001b[0mpredict\u001b[0m\u001b[0;34m(\u001b[0m\u001b[0mx_test\u001b[0m\u001b[0;34m,\u001b[0m \u001b[0mbatch_size\u001b[0m\u001b[0;34m=\u001b[0m\u001b[0;36m128\u001b[0m\u001b[0;34m)\u001b[0m\u001b[0;34m\u001b[0m\u001b[0;34m\u001b[0m\u001b[0m\n\u001b[0m",
      "\u001b[0;31mNameError\u001b[0m: name 'x_test' is not defined"
     ]
    }
   ],
   "source": [
    "classes = model.predict(x_test, batch_size=128)"
   ]
  },
  {
   "cell_type": "code",
   "execution_count": 120,
   "metadata": {},
   "outputs": [
    {
     "name": "stdout",
     "output_type": "stream",
     "text": [
      "['cold' 'cold' 'warm' 'cold' 'hot' 'hot' 'warm' 'cold' 'warm' 'hot']\n",
      "[0 0 2 0 1 1 2 0 2 1]\n",
      "[[1. 0. 0.]\n",
      " [1. 0. 0.]\n",
      " [0. 0. 1.]\n",
      " [1. 0. 0.]\n",
      " [0. 1. 0.]\n",
      " [0. 1. 0.]\n",
      " [0. 0. 1.]\n",
      " [1. 0. 0.]\n",
      " [0. 0. 1.]\n",
      " [0. 1. 0.]]\n",
      "['cold']\n"
     ]
    },
    {
     "name": "stderr",
     "output_type": "stream",
     "text": [
      "/home/osboxes/miniconda3/envs/tfm/lib/python3.7/site-packages/sklearn/preprocessing/_encoders.py:415: FutureWarning: The handling of integer data will change in version 0.22. Currently, the categories are determined based on the range [0, max(values)], while in the future they will be determined based on the unique values.\n",
      "If you want the future behaviour and silence this warning, you can specify \"categories='auto'\".\n",
      "In case you used a LabelEncoder before this OneHotEncoder to convert the categories to integers, then you can now use the OneHotEncoder directly.\n",
      "  warnings.warn(msg, FutureWarning)\n"
     ]
    }
   ],
   "source": [
    "from numpy import array\n",
    "from numpy import argmax\n",
    "from sklearn.preprocessing import LabelEncoder\n",
    "from sklearn.preprocessing import OneHotEncoder\n",
    "# define example\n",
    "data = ['cold', 'cold', 'warm', 'cold', 'hot', 'hot', 'warm', 'cold', 'warm', 'hot']\n",
    "values = array(data)\n",
    "print(values)\n",
    "# integer encode\n",
    "label_encoder = LabelEncoder()\n",
    "integer_encoded = label_encoder.fit_transform(values)\n",
    "print(integer_encoded)\n",
    "# binary encode\n",
    "onehot_encoder = OneHotEncoder(sparse=False)\n",
    "integer_encoded = integer_encoded.reshape(len(integer_encoded), 1)\n",
    "onehot_encoded = onehot_encoder.fit_transform(integer_encoded)\n",
    "print(onehot_encoded)\n",
    "# invert first example\n",
    "inverted = label_encoder.inverse_transform([argmax(onehot_encoded[0, :])])\n",
    "print(inverted)"
   ]
  },
  {
   "cell_type": "code",
   "execution_count": null,
   "metadata": {},
   "outputs": [],
   "source": []
  }
 ],
 "metadata": {
  "kernelspec": {
   "display_name": "Python 3",
   "language": "python",
   "name": "python3"
  },
  "language_info": {
   "codemirror_mode": {
    "name": "ipython",
    "version": 3
   },
   "file_extension": ".py",
   "mimetype": "text/x-python",
   "name": "python",
   "nbconvert_exporter": "python",
   "pygments_lexer": "ipython3",
   "version": "3.7.3"
  }
 },
 "nbformat": 4,
 "nbformat_minor": 2
}
