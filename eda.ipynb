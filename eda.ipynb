{
 "cells": [
  {
   "cell_type": "code",
   "execution_count": 2,
   "metadata": {},
   "outputs": [],
   "source": [
    "import pandas as pd\n",
    "import numpy as np\n",
    "import os"
   ]
  },
  {
   "cell_type": "code",
   "execution_count": 7,
   "metadata": {},
   "outputs": [
    {
     "name": "stdout",
     "output_type": "stream",
     "text": [
      "1000\n"
     ]
    }
   ],
   "source": [
    "tweets_path = './data/cresci-2017.csv/datasets_full.csv/traditional_spambots_1.csv/tweets.csv'\n",
    "\n",
    "with open(tweets_path, 'rb') as file:\n",
    "    df = pd.read_csv(file)\n",
    "    print(df['user_id'].unique().__len__())\n",
    "\n",
    "users_path = './data/cresci-2017.csv/datasets_full.csv/traditional_spambots_1.csv/users.csv'\n",
    "\n",
    "with open(users_path, 'rb') as file:\n",
    "    df = pd.read_csv(file)"
   ]
  },
  {
   "cell_type": "code",
   "execution_count": 3,
   "metadata": {},
   "outputs": [],
   "source": [
    "users2_path = './data/cresci-2017.csv/datasets_full.csv/traditional_spambots_2.csv/users.csv'\n",
    "\n",
    "with open(users2_path, 'rb') as file:\n",
    "    df2 = pd.read_csv(file)"
   ]
  },
  {
   "cell_type": "code",
   "execution_count": 4,
   "metadata": {},
   "outputs": [
    {
     "data": {
      "text/plain": [
       "1100"
      ]
     },
     "execution_count": 4,
     "metadata": {},
     "output_type": "execute_result"
    }
   ],
   "source": [
    "total_df = pd.concat([df, df2])\n",
    "\n",
    "total_df['id'].unique().__len__()"
   ]
  },
  {
   "cell_type": "markdown",
   "metadata": {},
   "source": [
    "### caverlee-2011"
   ]
  },
  {
   "cell_type": "code",
   "execution_count": 35,
   "metadata": {},
   "outputs": [
    {
     "name": "stdout",
     "output_type": "stream",
     "text": [
      "0.5355068796838478\n",
      "0.4644931203161522\n"
     ]
    }
   ],
   "source": [
    "root_dir = './data/caverlee-2011/social_honeypot_icwsm_2011/'\n",
    "dirs = sorted(os.listdir(root_dir))\n",
    "df_users = pd.DataFrame()\n",
    "df_tweets = pd.DataFrame()\n",
    "df_followings = pd.DataFrame()\n",
    "for item in dirs:\n",
    "    with open(root_dir + item, 'rb') as file:\n",
    "        if 'tweets' in item:\n",
    "            columns = ['UserID','TweetID','Tweet','CreatedAt']\n",
    "            new_data = pd.read_csv(file, sep = \"\\t\", names = columns)\n",
    "            df_tweets = pd.concat([df_tweets, new_data])\n",
    "            \n",
    "        elif 'followings' in item:\n",
    "            columns = ['UserID','SeriesOfNumberOfFollowings']\n",
    "            new_data = pd.read_csv(file, sep = \"\\t\", names = columns)\n",
    "            df_followings = pd.concat([df_followings, new_data])\n",
    "            \n",
    "        else:\n",
    "            columns = ['UserID','CreatedAt','CollectedAt','NumerOfFollowings','NumberOfFollowers','NumberOfTweets','LengthOfScreenName',\n",
    "'LengthOfDescriptionInUserProfile']\n",
    "            new_data = pd.read_csv(file, sep = \"\\t\", names = columns)\n",
    "            new_data['bot'] = 1 if 'content_polluters' in item else 0\n",
    "            df_users = pd.concat([df_users, new_data])\n",
    "            \n",
    "print(df_users[df_users['bot']==1].shape[0]/df_users.shape[0])\n",
    "print(df_users[df_users['bot']==0].shape[0]/df_users.shape[0])"
   ]
  },
  {
   "cell_type": "markdown",
   "metadata": {},
   "source": [
    "### classification_processed"
   ]
  },
  {
   "cell_type": "code",
   "execution_count": 36,
   "metadata": {},
   "outputs": [
    {
     "name": "stdout",
     "output_type": "stream",
     "text": [
      "       user_tweeted  user_retweeted  user_favourited  user_replied  \\\n",
      "count   3431.000000     3431.000000      3431.000000   3431.000000   \n",
      "mean      78.721947       13.778199      7857.604657     30.562518   \n",
      "std      709.209037       56.231026     24654.086386    225.174423   \n",
      "min        0.000000        0.000000         0.000000      0.000000   \n",
      "25%        2.000000        0.000000       104.208333      1.000000   \n",
      "50%        5.000000        2.000000      1268.547089      4.000000   \n",
      "75%       16.000000        7.000000      6230.417513     13.000000   \n",
      "max    31014.000000     1645.000000    748558.530864   6991.000000   \n",
      "\n",
      "       likes_per_tweet  retweets_per_tweet  lists_per_user  \\\n",
      "count      3431.000000         3431.000000     3431.000000   \n",
      "mean        170.868898          151.426753        6.553808   \n",
      "std        2200.369185         2170.297529      286.648075   \n",
      "min           0.000000            0.000000        0.000000   \n",
      "25%           0.000000            0.000000        0.009948   \n",
      "50%           0.000000            0.000000        0.078598   \n",
      "75%           0.000000            0.000000        0.421914   \n",
      "max       63935.152301        91470.112676    16651.795395   \n",
      "\n",
      "       follower_friend_ratio  tweet_frequency  favourite_tweet_ratio  \\\n",
      "count           3.431000e+03      3431.000000            3431.000000   \n",
      "mean            1.192191e+04        45.770818               0.048187   \n",
      "std             2.362832e+05       114.594438               1.220693   \n",
      "min            -2.497935e+04         0.024787               0.000000   \n",
      "25%             1.234199e+00         7.872269               0.000000   \n",
      "50%             4.259015e+00        19.729839               0.000000   \n",
      "75%             3.064175e+02        42.839377               0.000000   \n",
      "max             1.336433e+07      2481.428012              68.296034   \n",
      "\n",
      "       age_of_account_in_days  sources_count    urls_count  cdn_content_in_kb  \\\n",
      "count             3431.000000    3431.000000   3431.000000        3431.000000   \n",
      "mean              1621.023973       2.729525     59.273973           7.350586   \n",
      "std                757.054859       4.550814    441.378785          25.250635   \n",
      "min                 17.321829       1.000000      0.000000           0.000000   \n",
      "25%               1015.798906       1.000000      1.000000           0.067484   \n",
      "50%               1621.226505       1.000000      4.000000           0.801127   \n",
      "75%               2265.693935       2.000000     15.000000           4.573711   \n",
      "max               3437.823646      70.000000  13013.000000         551.181190   \n",
      "\n",
      "               bot  \n",
      "count  3431.000000  \n",
      "mean      0.434859  \n",
      "std       0.495811  \n",
      "min       0.000000  \n",
      "25%       0.000000  \n",
      "50%       0.000000  \n",
      "75%       1.000000  \n",
      "max       1.000000  \n",
      "0.4348586417953949\n",
      "0.5651413582046051\n"
     ]
    }
   ],
   "source": [
    "root_dir = './data/classification_processed/'\n",
    "df = pd.DataFrame()\n",
    "for item in sorted(os.listdir(root_dir)):\n",
    "    if os.path.isdir(root_dir + item):\n",
    "        for file in sorted(os.listdir(root_dir + item)):\n",
    "            with open(root_dir + item + '/' + file, 'rb') as f:\n",
    "                new_df = pd.read_csv(f)\n",
    "                new_df['bot'] = 1 if item == 'bots' else 0\n",
    "                df = pd.concat([df, new_df])\n",
    "print(df.describe())\n",
    "df.count()\n",
    "\n",
    "print(df[df['bot']==1].shape[0]/df.shape[0])\n",
    "print(df[df['bot']==0].shape[0]/df.shape[0])"
   ]
  },
  {
   "cell_type": "markdown",
   "metadata": {},
   "source": [
    "### cresci-2015.csv"
   ]
  },
  {
   "cell_type": "code",
   "execution_count": 3,
   "metadata": {},
   "outputs": [
    {
     "name": "stdout",
     "output_type": "stream",
     "text": [
      "E13.csv: 0\n",
      "FSF.csv: 1\n",
      "INT.csv: 1\n"
     ]
    },
    {
     "name": "stderr",
     "output_type": "stream",
     "text": [
      "/home/osboxes/miniconda3/envs/tfm/lib/python3.7/site-packages/IPython/core/interactiveshell.py:3057: DtypeWarning: Columns (8) have mixed types. Specify dtype option on import or set low_memory=False.\n",
      "  interactivity=interactivity, compiler=compiler, result=result)\n"
     ]
    },
    {
     "name": "stdout",
     "output_type": "stream",
     "text": [
      "TFP.csv: 0\n",
      "TWT.csv: 1\n"
     ]
    }
   ],
   "source": [
    "root_dir = './data/cresci-2015.csv/'\n",
    "dirs = sorted(os.listdir(root_dir))\n",
    "df_users = pd.DataFrame()\n",
    "df_tweets = pd.DataFrame()\n",
    "df_friends = pd.DataFrame()\n",
    "df_followers = pd.DataFrame()\n",
    "for item in dirs:\n",
    "    if os.path.isdir(root_dir + item):\n",
    "        with open(root_dir + item + '/users.csv', 'rb') as users_file:\n",
    "            is_bot = 1 if item in ['INT.csv', 'FSF.csv', 'TWT.csv'] else 0\n",
    "            print(item + ': ' + str(is_bot))\n",
    "            new_data = pd.read_csv(users_file)\n",
    "            new_data['bot'] = is_bot\n",
    "            df_users = pd.concat([df_users, new_data])\n",
    "            \n",
    "        with open(root_dir + item + '/tweets.csv', 'rb') as tweets_file:\n",
    "            df_tweets = pd.concat([df_tweets, pd.read_csv(tweets_file)])\n",
    "            \n",
    "        with open(root_dir + item + '/friends.csv', 'rb') as friends_file:\n",
    "            df_friends = pd.concat([df_friends, pd.read_csv(friends_file)])\n",
    "            \n",
    "        with open(root_dir + item + '/followers.csv', 'rb') as followers_file:\n",
    "            df_followers = pd.concat([df_followers, pd.read_csv(followers_file)])\n",
    "            \n",
    "# print(df_users.count())\n",
    "# print(df_tweets.count())\n",
    "# print(df_friends.count())\n",
    "# print(df_followers.count())"
   ]
  },
  {
   "cell_type": "code",
   "execution_count": 34,
   "metadata": {},
   "outputs": [
    {
     "name": "stdout",
     "output_type": "stream",
     "text": [
      "sources: 5292\n",
      "targets: 477096\n",
      "sources: 1153506\n",
      "targets: 5233\n",
      "users: 5148\n",
      "0.6321448783248443\n",
      "0.3678551216751556\n"
     ]
    }
   ],
   "source": [
    "print('sources: ' + str(df_friends['source_id'].unique().__len__()))\n",
    "print('targets: ' + str(df_friends['target_id'].unique().__len__()))\n",
    "print('sources: ' + str(df_followers['source_id'].unique().__len__()))\n",
    "print('targets: ' + str(df_followers['target_id'].unique().__len__()))\n",
    "print('users: ' + str(df_tweets['user_id'].unique().__len__()))\n",
    "\n",
    "print(df_users[df_users['bot']==1].shape[0]/df_users.shape[0])\n",
    "print(df_users[df_users['bot']==0].shape[0]/df_users.shape[0])"
   ]
  },
  {
   "cell_type": "code",
   "execution_count": 9,
   "metadata": {},
   "outputs": [
    {
     "data": {
      "text/html": [
       "<div>\n",
       "<style scoped>\n",
       "    .dataframe tbody tr th:only-of-type {\n",
       "        vertical-align: middle;\n",
       "    }\n",
       "\n",
       "    .dataframe tbody tr th {\n",
       "        vertical-align: top;\n",
       "    }\n",
       "\n",
       "    .dataframe thead th {\n",
       "        text-align: right;\n",
       "    }\n",
       "</style>\n",
       "<table border=\"1\" class=\"dataframe\">\n",
       "  <thead>\n",
       "    <tr style=\"text-align: right;\">\n",
       "      <th></th>\n",
       "      <th>id</th>\n",
       "      <th>name</th>\n",
       "      <th>screen_name</th>\n",
       "      <th>statuses_count</th>\n",
       "      <th>followers_count</th>\n",
       "      <th>friends_count</th>\n",
       "      <th>favourites_count</th>\n",
       "      <th>listed_count</th>\n",
       "      <th>created_at</th>\n",
       "      <th>url</th>\n",
       "      <th>...</th>\n",
       "      <th>profile_sidebar_fill_color</th>\n",
       "      <th>profile_background_image_url</th>\n",
       "      <th>profile_background_color</th>\n",
       "      <th>profile_link_color</th>\n",
       "      <th>utc_offset</th>\n",
       "      <th>protected</th>\n",
       "      <th>verified</th>\n",
       "      <th>description</th>\n",
       "      <th>updated</th>\n",
       "      <th>dataset</th>\n",
       "    </tr>\n",
       "  </thead>\n",
       "  <tbody>\n",
       "    <tr>\n",
       "      <th>0</th>\n",
       "      <td>3610511</td>\n",
       "      <td>Davide Dellacasa</td>\n",
       "      <td>braddd</td>\n",
       "      <td>20370</td>\n",
       "      <td>5470</td>\n",
       "      <td>2385</td>\n",
       "      <td>145</td>\n",
       "      <td>52</td>\n",
       "      <td>Fri Apr 06 10:58:22 +0000 2007</td>\n",
       "      <td>http://braddd.tumblr.com</td>\n",
       "      <td>...</td>\n",
       "      <td>FFF7CC</td>\n",
       "      <td>http://a0.twimg.com/profile_background_images/...</td>\n",
       "      <td>BADFCD</td>\n",
       "      <td>FF0000</td>\n",
       "      <td>3600.0</td>\n",
       "      <td>NaN</td>\n",
       "      <td>NaN</td>\n",
       "      <td>Founder of http://www.screenweek.it &amp; http://w...</td>\n",
       "      <td>2015-02-14 10:54:49</td>\n",
       "      <td>E13</td>\n",
       "    </tr>\n",
       "    <tr>\n",
       "      <th>1</th>\n",
       "      <td>5656162</td>\n",
       "      <td>Simone Economo</td>\n",
       "      <td>eKoeS</td>\n",
       "      <td>3131</td>\n",
       "      <td>506</td>\n",
       "      <td>381</td>\n",
       "      <td>9</td>\n",
       "      <td>40</td>\n",
       "      <td>Mon Apr 30 15:08:42 +0000 2007</td>\n",
       "      <td>http://www.lineheight.net/</td>\n",
       "      <td>...</td>\n",
       "      <td>DDEEF6</td>\n",
       "      <td>http://a0.twimg.com/images/themes/theme1/bg.png</td>\n",
       "      <td>C0DEED</td>\n",
       "      <td>0084B4</td>\n",
       "      <td>3600.0</td>\n",
       "      <td>NaN</td>\n",
       "      <td>NaN</td>\n",
       "      <td>BSc degree (cum laude) in Computer Engineering...</td>\n",
       "      <td>2015-02-14 10:54:49</td>\n",
       "      <td>E13</td>\n",
       "    </tr>\n",
       "    <tr>\n",
       "      <th>2</th>\n",
       "      <td>5682702</td>\n",
       "      <td>tacone</td>\n",
       "      <td>tacone_</td>\n",
       "      <td>4024</td>\n",
       "      <td>264</td>\n",
       "      <td>87</td>\n",
       "      <td>323</td>\n",
       "      <td>16</td>\n",
       "      <td>Tue May 01 11:53:40 +0000 2007</td>\n",
       "      <td>http://t.co/LKrl1dZE</td>\n",
       "      <td>...</td>\n",
       "      <td>000000</td>\n",
       "      <td>http://a0.twimg.com/profile_background_images/...</td>\n",
       "      <td>1A1B1F</td>\n",
       "      <td>2FC2EF</td>\n",
       "      <td>3600.0</td>\n",
       "      <td>NaN</td>\n",
       "      <td>NaN</td>\n",
       "      <td>Cogito ergo bestemmio.</td>\n",
       "      <td>2015-02-14 10:54:49</td>\n",
       "      <td>E13</td>\n",
       "    </tr>\n",
       "    <tr>\n",
       "      <th>3</th>\n",
       "      <td>6067292</td>\n",
       "      <td>alesaura</td>\n",
       "      <td>alesstar</td>\n",
       "      <td>40586</td>\n",
       "      <td>640</td>\n",
       "      <td>622</td>\n",
       "      <td>1118</td>\n",
       "      <td>32</td>\n",
       "      <td>Tue May 15 16:55:16 +0000 2007</td>\n",
       "      <td>http://alesstar.wordpress.com/</td>\n",
       "      <td>...</td>\n",
       "      <td>95E8EC</td>\n",
       "      <td>http://a0.twimg.com/images/themes/theme4/bg.gif</td>\n",
       "      <td>0099B9</td>\n",
       "      <td>0099B9</td>\n",
       "      <td>3600.0</td>\n",
       "      <td>NaN</td>\n",
       "      <td>NaN</td>\n",
       "      <td>Se la vita ti dà sarde, scapocciale!</td>\n",
       "      <td>2015-02-14 10:54:49</td>\n",
       "      <td>E13</td>\n",
       "    </tr>\n",
       "    <tr>\n",
       "      <th>4</th>\n",
       "      <td>6015122</td>\n",
       "      <td>Angelo</td>\n",
       "      <td>PerDiletto</td>\n",
       "      <td>2016</td>\n",
       "      <td>62</td>\n",
       "      <td>64</td>\n",
       "      <td>13</td>\n",
       "      <td>0</td>\n",
       "      <td>Sun May 13 19:52:00 +0000 2007</td>\n",
       "      <td>http://www.flickr.com/per_diletto</td>\n",
       "      <td>...</td>\n",
       "      <td>F6F6F6</td>\n",
       "      <td>http://a0.twimg.com/images/themes/theme18/bg.gif</td>\n",
       "      <td>ACDED6</td>\n",
       "      <td>038543</td>\n",
       "      <td>3600.0</td>\n",
       "      <td>NaN</td>\n",
       "      <td>NaN</td>\n",
       "      <td>Je me souviens</td>\n",
       "      <td>2015-02-14 10:54:49</td>\n",
       "      <td>E13</td>\n",
       "    </tr>\n",
       "  </tbody>\n",
       "</table>\n",
       "<p>5 rows × 34 columns</p>\n",
       "</div>"
      ],
      "text/plain": [
       "        id              name screen_name  statuses_count  followers_count  \\\n",
       "0  3610511  Davide Dellacasa      braddd           20370             5470   \n",
       "1  5656162    Simone Economo       eKoeS            3131              506   \n",
       "2  5682702            tacone     tacone_            4024              264   \n",
       "3  6067292          alesaura    alesstar           40586              640   \n",
       "4  6015122            Angelo  PerDiletto            2016               62   \n",
       "\n",
       "   friends_count  favourites_count  listed_count  \\\n",
       "0           2385               145            52   \n",
       "1            381                 9            40   \n",
       "2             87               323            16   \n",
       "3            622              1118            32   \n",
       "4             64                13             0   \n",
       "\n",
       "                       created_at                                url  ...  \\\n",
       "0  Fri Apr 06 10:58:22 +0000 2007           http://braddd.tumblr.com  ...   \n",
       "1  Mon Apr 30 15:08:42 +0000 2007         http://www.lineheight.net/  ...   \n",
       "2  Tue May 01 11:53:40 +0000 2007               http://t.co/LKrl1dZE  ...   \n",
       "3  Tue May 15 16:55:16 +0000 2007     http://alesstar.wordpress.com/  ...   \n",
       "4  Sun May 13 19:52:00 +0000 2007  http://www.flickr.com/per_diletto  ...   \n",
       "\n",
       "  profile_sidebar_fill_color  \\\n",
       "0                     FFF7CC   \n",
       "1                     DDEEF6   \n",
       "2                     000000   \n",
       "3                     95E8EC   \n",
       "4                     F6F6F6   \n",
       "\n",
       "                        profile_background_image_url profile_background_color  \\\n",
       "0  http://a0.twimg.com/profile_background_images/...                   BADFCD   \n",
       "1    http://a0.twimg.com/images/themes/theme1/bg.png                   C0DEED   \n",
       "2  http://a0.twimg.com/profile_background_images/...                   1A1B1F   \n",
       "3    http://a0.twimg.com/images/themes/theme4/bg.gif                   0099B9   \n",
       "4   http://a0.twimg.com/images/themes/theme18/bg.gif                   ACDED6   \n",
       "\n",
       "   profile_link_color  utc_offset  protected verified  \\\n",
       "0              FF0000      3600.0        NaN      NaN   \n",
       "1              0084B4      3600.0        NaN      NaN   \n",
       "2              2FC2EF      3600.0        NaN      NaN   \n",
       "3              0099B9      3600.0        NaN      NaN   \n",
       "4              038543      3600.0        NaN      NaN   \n",
       "\n",
       "                                         description              updated  \\\n",
       "0  Founder of http://www.screenweek.it & http://w...  2015-02-14 10:54:49   \n",
       "1  BSc degree (cum laude) in Computer Engineering...  2015-02-14 10:54:49   \n",
       "2                             Cogito ergo bestemmio.  2015-02-14 10:54:49   \n",
       "3               Se la vita ti dà sarde, scapocciale!  2015-02-14 10:54:49   \n",
       "4                                     Je me souviens  2015-02-14 10:54:49   \n",
       "\n",
       "  dataset  \n",
       "0     E13  \n",
       "1     E13  \n",
       "2     E13  \n",
       "3     E13  \n",
       "4     E13  \n",
       "\n",
       "[5 rows x 34 columns]"
      ]
     },
     "execution_count": 9,
     "metadata": {},
     "output_type": "execute_result"
    }
   ],
   "source": [
    "df_users.head()"
   ]
  },
  {
   "cell_type": "markdown",
   "metadata": {},
   "source": [
    "### cresci-2017.csv"
   ]
  },
  {
   "cell_type": "code",
   "execution_count": 45,
   "metadata": {},
   "outputs": [
    {
     "name": "stdout",
     "output_type": "stream",
     "text": [
      "fake_followers.csv: 1\n",
      "genuine_accounts.csv: 0\n"
     ]
    },
    {
     "name": "stderr",
     "output_type": "stream",
     "text": [
      "/home/osboxes/miniconda3/envs/tfm/lib/python3.7/site-packages/ipykernel_launcher.py:24: FutureWarning: Sorting because non-concatenation axis is not aligned. A future version\n",
      "of pandas will change to not sort by default.\n",
      "\n",
      "To accept the future behavior, pass 'sort=False'.\n",
      "\n",
      "To retain the current behavior and silence the warning, pass 'sort=True'.\n",
      "\n"
     ]
    },
    {
     "name": "stdout",
     "output_type": "stream",
     "text": [
      "social_spambots_1.csv: 1\n",
      "social_spambots_2.csv: 1\n",
      "social_spambots_3.csv: 1\n",
      "traditional_spambots_1.csv: 1\n",
      "traditional_spambots_2.csv: 1\n",
      "exception\n",
      "traditional_spambots_3.csv: 1\n",
      "exception\n",
      "traditional_spambots_4.csv: 1\n",
      "exception\n",
      "0.7582126948775055\n",
      "0.24178730512249444\n"
     ]
    }
   ],
   "source": [
    "types_users = {'id': str, 'name': str, 'screen_name': str, 'statuses_count': np.float64, 'followers_count': np.float64, 'friends_count': np.float64, 'favourites_count': np.float64, 'listed_count': np.float64, 'url': str, 'lang': str, 'time_zone': str, 'location': str, 'default_profile': str, 'default_profile_image': str, 'geo_enabled': str, 'profile_image_url': str, 'profile_banner_url': str, 'profile_use_background_image': str, 'profile_background_image_url_https': str, 'profile_text_color': str, 'profile_image_url_https': str, 'profile_sidebar_border_color': str, 'profile_background_tile': str, 'profile_sidebar_fill_color': str, 'profile_background_image_url': str, 'profile_background_color': str, 'profile_link_color': str, 'utc_offset': str, 'is_translator': str, 'follow_request_sent': str, 'protected': str, 'verified': str, 'notifications': str, 'description': str, 'contributors_enabled': str, 'following': str, 'created_at': str, 'updated': str}\n",
    "types_tweets = {'text': str, 'source': str, 'user_id': str, 'truncated': str, 'in_reply_to_status_id': str, 'in_reply_to_user_id': str, 'in_reply_to_screen_name': str, 'retweeted_status_id': str, 'geo': str, 'place': str, 'contributors': str, 'retweet_count': np.float64, 'reply_count': np.float64, 'favorite_count': np.float64, 'favorited': str, 'retweeted': str, 'possibly_sensitive': str, 'num_hashtags': np.float64, 'num_urls': np.float64, 'num_mentions': np.float64, 'created_at': str, 'timestamp': str, 'crawled_at': str, 'updated': str}\n",
    "root_dir = './data/cresci-2017.csv/datasets_full.csv/'\n",
    "dirs = [dir for dir in sorted(os.listdir(root_dir)) if \\\n",
    "        'traditional' in dir or \\\n",
    "        'social' in dir or \\\n",
    "        'genuine' in dir or \\\n",
    "        'fake' in dir]\n",
    "df_users = pd.DataFrame()\n",
    "df_tweets = pd.DataFrame()\n",
    "for item in dirs:\n",
    "    if os.path.isdir(root_dir + item):\n",
    "        try:\n",
    "            with open(root_dir + item + '/users.csv', 'rb') as users_file:\n",
    "                new_users = pd.read_csv(users_file, header = 0, dtype = types_users)\n",
    "                is_bot = 1 if 'fake' in item or 'spam' in item else 0\n",
    "                print(item + ': ' + str(is_bot))\n",
    "                new_users['bot'] = is_bot\n",
    "                new_users = new_users[['id','name','screen_name','statuses_count','followers_count','friends_count','favourites_count','listed_count','url','lang','time_zone','location','default_profile','default_profile_image','geo_enabled','profile_image_url','profile_banner_url','profile_use_background_image','profile_background_image_url_https','profile_text_color','profile_image_url_https','profile_sidebar_border_color','profile_background_tile','profile_sidebar_fill_color','profile_background_image_url','profile_background_color','profile_link_color','utc_offset','is_translator','follow_request_sent','protected','verified','notifications','description','contributors_enabled','following','created_at','updated', 'bot']]\n",
    "                df_users = pd.concat([df_users, new_users])\n",
    "                \n",
    "            with open(root_dir + item + '/tweets.csv', 'rb') as tweets_file:\n",
    "                new_tweets = pd.read_csv(tweets_file, header = 0, dtype = types_tweets)\n",
    "                df_tweets = pd.concat([df_tweets, new_tweets])\n",
    "        except:\n",
    "            print('exception')\n",
    "            continue\n",
    "\n",
    "print(df_users[df_users['bot']==1].shape[0]/df_users.shape[0])\n",
    "print(df_users[df_users['bot']==0].shape[0]/df_users.shape[0])"
   ]
  },
  {
   "cell_type": "code",
   "execution_count": 37,
   "metadata": {},
   "outputs": [
    {
     "name": "stdout",
     "output_type": "stream",
     "text": [
      "11017\n",
      "6996\n"
     ]
    }
   ],
   "source": [
    "print(df_users['id'].count())\n",
    "print(df_tweets['user_id'].unique().__len__())"
   ]
  },
  {
   "cell_type": "code",
   "execution_count": null,
   "metadata": {},
   "outputs": [],
   "source": []
  }
 ],
 "metadata": {
  "kernelspec": {
   "display_name": "Python 3",
   "language": "python",
   "name": "python3"
  },
  "language_info": {
   "codemirror_mode": {
    "name": "ipython",
    "version": 3
   },
   "file_extension": ".py",
   "mimetype": "text/x-python",
   "name": "python",
   "nbconvert_exporter": "python",
   "pygments_lexer": "ipython3",
   "version": "3.7.3"
  }
 },
 "nbformat": 4,
 "nbformat_minor": 2
}
