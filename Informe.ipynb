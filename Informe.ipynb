{
 "cells": [
  {
   "cell_type": "markdown",
   "metadata": {},
   "source": [
    "# Deep Learning for Bot detection\n",
    "\n",
    "### Author: Javier Pérez Clemente"
   ]
  },
  {
   "cell_type": "code",
   "execution_count": 26,
   "metadata": {},
   "outputs": [],
   "source": [
    "import pandas as pd\n",
    "import numpy as np\n",
    "import os\n",
    "import json\n",
    "import matplotlib.pyplot as plt\n",
    "import seaborn as sns"
   ]
  },
  {
   "cell_type": "code",
   "execution_count": 2,
   "metadata": {},
   "outputs": [],
   "source": [
    "user_dtypes = {\n",
    "    'id': object \n",
    "    , 'utc_offset': object\n",
    "#     , 'default_profile': np.int64\n",
    "}\n",
    "\n",
    "tweets_dtypes = {\n",
    "    'id': object, \n",
    "    'user_id': object,\n",
    "    'in_reply_to_status_id': object,\n",
    "    'in_reply_to_user_id': object,\n",
    "    'retweeted_status_id': object,\n",
    "    'geo': object\n",
    "}\n",
    "\n",
    "friends_dtypes = {\n",
    "    'source_id': object, \n",
    "    'target_id': object\n",
    "}\n",
    "\n",
    "followers_dtypes = {\n",
    "    'source_id': object, \n",
    "    'target_id': object\n",
    "}\n",
    "    \n",
    "root_dir = './data/cresci-2015.csv/'\n",
    "dirs = sorted(os.listdir(root_dir))\n",
    "\n",
    "df_users = pd.DataFrame()\n",
    "df_tweets = pd.DataFrame()\n",
    "df_friends = pd.DataFrame()\n",
    "df_followers = pd.DataFrame()\n",
    "\n",
    "for item in dirs:\n",
    "    if os.path.isdir(root_dir + item):\n",
    "        with open(root_dir + item + '/users.csv', 'rb') as users_file:\n",
    "            is_bot = 1 if item in ['INT.csv', 'FSF.csv', 'TWT.csv'] else 0\n",
    "            new_users = pd.read_csv(users_file, dtype = user_dtypes)\n",
    "            new_users['bot'] = is_bot\n",
    "            df_users = pd.concat([df_users, new_users])\n",
    "            \n",
    "#         with open(root_dir + item + '/tweets.csv', 'rb') as tweets_file:\n",
    "#             df_tweets = pd.concat([df_tweets, pd.read_csv(tweets_file, dtype = tweets_dtypes)])\n",
    "            \n",
    "#         with open(root_dir + item + '/friends.csv', 'rb') as friends_file:\n",
    "#             df_friends = pd.concat([df_friends, pd.read_csv(friends_file, dtype = friends_dtypes)])\n",
    "            \n",
    "#         with open(root_dir + item + '/followers.csv', 'rb') as followers_file:\n",
    "#             df_followers = pd.concat([df_followers, pd.read_csv(followers_file, dtype = followers_dtypes)])"
   ]
  },
  {
   "cell_type": "markdown",
   "metadata": {},
   "source": [
    "## Exploratory Data Analysis"
   ]
  },
  {
   "cell_type": "markdown",
   "metadata": {},
   "source": [
    "|VARIABLE|STATUS|\n",
    "|:--|:-------------------|\n",
    "|id|Not usefull. Dropped|\n",
    "|name|Not usefull. Dropped|\n",
    "|screen_name|Not usefull. Dropped|\n",
    "|statuses_coun|np.int64|\n",
    "|followers_count|np.int64|\n",
    "|friends_count|np.int64|\n",
    "|favourites_count|np.int64|\n",
    "|listed_count|np.int64|\n",
    "|created_at|Not usefull. Dropped|\n",
    "|url|Converted to binary|\n",
    "|lang|Not usefull. Dropped|\n",
    "|time_zone|Not usefull. Dropped|\n",
    "|location|Not usefull. Dropped|\n",
    "|default_profile|Binary NaNs to 0|\n",
    "|default_profile_image|Binary NaNs to 0|\n",
    "|geo_enabled|Binary NaNs to 0|\n",
    "|profile_image_url|Not usefull. Dropped. Impossible to convert to binary since there are no NaNs\t\t\t\t\t |\n",
    "|profile_banner_url|Binary NaNs to 0|\n",
    "|profile_use_background_image|Binary NaNs to 0|\n",
    "|profile_background_image_url_https|Repeated. Dropped|\n",
    "|profile_text_color|Not sure what to do. Likely to be dropped|\n",
    "|profile_image_url_https|Repeated. Dropped|\n",
    "|profile_sidebar_border_color|Not sure what to do. Likely to be dropped|\n",
    "|profile_background_tile|Binary NaNs to 0|\n",
    "|profile_sidebar_fill_color|Not sure what to do. Likely to be dropped|\n",
    "|profile_background_image_url|Not usefull. Dropped. Impossible to convert to binary since there are no NaNs|\n",
    "|profile_background_color|Not sure what to do. Likely to be dropped|\n",
    "|profile_link_color|Not sure what to do. Likely to be dropped|\n",
    "|utc_offset|Not usefull. Dropped|\n",
    "|protected|Not usefull. Dropped. Impossible to convert to binary since there are only NaNs|\n",
    "|verified|Not usefull. Dropped. Impossible to convert to binary since there are only NaNs|\n",
    "|description|Converted to bins of length(description). Most of the rows with length(description) < 5 are bots|\n",
    "|updated|Not usefull. Dropped|\n",
    "|dataset|Not usefull. Dropped|\n",
    "|bot|label|"
   ]
  },
  {
   "cell_type": "code",
   "execution_count": 4,
   "metadata": {},
   "outputs": [],
   "source": [
    "def amend_binary(df, var):\n",
    "    df[var] = pd.to_numeric(df[var]).fillna(0).map(np.int64)\n",
    "    return df\n",
    "\n",
    "def to_dummie(df, var):\n",
    "    var_dummies = pd.get_dummies(df.loc[:, var])\n",
    "    print(var_dummies.shape)\n",
    "    df.drop(var, axis=1, inplace=True)\n",
    "    df = pd.concat([df, var_dummies], axis=1)\n",
    "    return df\n",
    "\n",
    "def to_dummies(df, variables):\n",
    "    for var in variables:\n",
    "        df = to_dummie(df, var)\n",
    "    return df\n",
    "\n",
    "def to_binary(df, var):\n",
    "    df[var] = np.where(df[var].isnull(), 0, 1)\n",
    "    return df\n",
    "\n",
    "def to_binaries(df, variables):\n",
    "    for var in variables:\n",
    "        df = to_binary(df, var)\n",
    "    return df\n",
    "\n",
    "user_binary_vars = ['geo_enabled', 'profile_use_background_image', 'default_profile', 'default_profile_image', 'profile_background_tile', 'protected', 'verified']\n",
    "for var in user_binary_vars:\n",
    "            df_users = amend_binary(df_users, var)\n",
    "    \n",
    "# tweet_binary_vars = ['truncated']\n",
    "# for var in tweet_binary_vars:\n",
    "#     df_tweets = to_binary(df_tweets, var)\n",
    "\n",
    "# Variables convertidas a binarias.\n",
    "to_binary_vars = ['url', 'profile_image_url', 'profile_banner_url', 'profile_background_image_url']\n",
    "df_users = to_binaries(df_users, to_binary_vars)\n",
    "\n",
    "df_users.loc[:,'descr_longr_5'] = np.where(df_users.loc[:,'description'].map(lambda x: len(str(x))) > 5, 1, 0)\n",
    "\n",
    "# Variables dummies. Estas variables de momento no entrarían en el modelo.\n",
    "# df_users = to_dummies(df_users, ['lang', 'time_zone']) \n",
    "\n",
    "# Variables a eliminar\n",
    "df_users.drop(['id','screen_name', 'name','created_at', 'location', 'lang', 'time_zone', 'profile_text_color', 'profile_sidebar_border_color','profile_image_url_https', 'profile_image_url', 'profile_background_image_url_https', 'protected', 'verified', 'updated', 'dataset', 'description', 'utc_offset', 'profile_sidebar_fill_color', 'profile_background_color', 'profile_link_color', 'profile_background_image_url'], axis=1, inplace=True)"
   ]
  },
  {
   "cell_type": "code",
   "execution_count": 6,
   "metadata": {},
   "outputs": [
    {
     "data": {
      "text/plain": [
       "statuses_count                  int64\n",
       "followers_count                 int64\n",
       "friends_count                   int64\n",
       "favourites_count                int64\n",
       "listed_count                    int64\n",
       "url                             int64\n",
       "default_profile                 int64\n",
       "default_profile_image           int64\n",
       "geo_enabled                     int64\n",
       "profile_banner_url              int64\n",
       "profile_use_background_image    int64\n",
       "profile_background_tile         int64\n",
       "bot                             int64\n",
       "descr_longr_5                   int64\n",
       "dtype: object"
      ]
     },
     "execution_count": 6,
     "metadata": {},
     "output_type": "execute_result"
    }
   ],
   "source": [
    "df_users.dtypes"
   ]
  },
  {
   "cell_type": "markdown",
   "metadata": {},
   "source": [
    "### Variable \"statuses_count\""
   ]
  },
  {
   "cell_type": "code",
   "execution_count": 72,
   "metadata": {},
   "outputs": [
    {
     "data": {
      "text/plain": [
       "Text(0, 0.5, 'count')"
      ]
     },
     "execution_count": 72,
     "metadata": {},
     "output_type": "execute_result"
    },
    {
     "data": {
      "image/png": "[encoded data removed]",
      "text/plain": [
       "<Figure size 842.4x595.44 with 1 Axes>"
      ]
     },
     "metadata": {
      "needs_background": "light"
     },
     "output_type": "display_data"
    }
   ],
   "source": [
    "df_users['statuses_count'].value_counts().max()\n",
    "\n",
    "a4_dims = (11.7, 8.27)\n",
    "fig, ax = plt.subplots(figsize=a4_dims)\n",
    "\n",
    "bots = df_users.loc[df_users['bot'] == 1]\n",
    "humans = df_users.loc[df_users['bot'] ==0]\n",
    "sns.distplot(bots.loc[bots['statuses_count'] < 200,'statuses_count'], label='bots')\n",
    "sns.distplot(humans.loc[humans['statuses_count'] < 200,'statuses_count'], label='humans')\n",
    "\n",
    "plt.legend()\n",
    "plt.title('Histogram of statuses count')\n",
    "plt.xlabel('number of statuses')\n",
    "plt.ylabel('count')"
   ]
  },
  {
   "cell_type": "code",
   "execution_count": 70,
   "metadata": {},
   "outputs": [
    {
     "data": {
      "text/plain": [
       "Text(0, 0.5, 'count')"
      ]
     },
     "execution_count": 70,
     "metadata": {},
     "output_type": "execute_result"
    },
    {
     "data": {
      "image/png": "[encoded data removed]",
      "text/plain": [
       "<Figure size 842.4x595.44 with 1 Axes>"
      ]
     },
     "metadata": {
      "needs_background": "light"
     },
     "output_type": "display_data"
    }
   ],
   "source": [
    "a4_dims = (11.7, 8.27)\n",
    "fig, ax = plt.subplots(figsize=a4_dims)\n",
    "\n",
    "bots = df_users.loc[df_users['bot'] == 1]\n",
    "humans = df_users.loc[df_users['bot'] ==0]\n",
    "sns.distplot(bots.loc[bots['followers_count'] < 200,'followers_count'], label='bots')\n",
    "sns.distplot(humans.loc[humans['followers_count'] < 200,'followers_count'], label='humans')\n",
    "\n",
    "plt.legend()\n",
    "plt.title('Histogram of followers count')\n",
    "plt.xlabel('number of followers')\n",
    "plt.ylabel('count')"
   ]
  },
  {
   "cell_type": "markdown",
   "metadata": {},
   "source": [
    "### Variable \"description\""
   ]
  },
  {
   "cell_type": "code",
   "execution_count": 30,
   "metadata": {},
   "outputs": [
    {
     "name": "stderr",
     "output_type": "stream",
     "text": [
      "W0802 13:33:48.323475 140460422309696 legend.py:1282] No handles with labels found to put in legend.\n"
     ]
    },
    {
     "data": {
      "text/plain": [
       "Text(0.5, 1.0, 'Histogram of Arrival Delays')"
      ]
     },
     "execution_count": 30,
     "metadata": {},
     "output_type": "execute_result"
    },
    {
     "data": {
      "image/png": "[encoded data removed]",
      "text/plain": [
       "<Figure size 432x288 with 1 Axes>"
      ]
     },
     "metadata": {
      "needs_background": "light"
     },
     "output_type": "display_data"
    }
   ],
   "source": [
    "sns.boxplot(data = df_users, x=\"bot\", y=\"descr_longr_5\")\n",
    "\n",
    "# Add labels\n",
    "plt.legend()\n",
    "plt.title('Histogram of Arrival Delays')\n",
    "#plt.xlabel('description greater than 5 chars')"
   ]
  },
  {
   "cell_type": "markdown",
   "metadata": {},
   "source": [
    "### Corretlations"
   ]
  },
  {
   "cell_type": "code",
   "execution_count": null,
   "metadata": {},
   "outputs": [],
   "source": [
    "df = df_users\n",
    "\n",
    "f = plt.figure(figsize=(19, 15))\n",
    "plt.matshow(df.corr(), fignum=f.number)\n",
    "plt.xticks(range(df.shape[1]), df.columns, fontsize=14, rotation=90)\n",
    "plt.yticks(range(df.shape[1]), df.columns, fontsize=14)\n",
    "cb = plt.colorbar()\n",
    "cb.ax.tick_params(labelsize=14)\n",
    "plt.title('Correlation Matrix', fontsize=14);\n",
    "\n",
    "col_names = df.corr().columns.values\n",
    "\n",
    "for col, row in ((df.corr().abs() > 0.8) & (df.corr().abs() < 1)).iteritems():\n",
    "    print(col, col_names[row.values])"
   ]
  },
  {
   "cell_type": "code",
   "execution_count": 7,
   "metadata": {},
   "outputs": [
    {
     "data": {
      "text/html": [
       "<div>\n",
       "<style scoped>\n",
       "    .dataframe tbody tr th:only-of-type {\n",
       "        vertical-align: middle;\n",
       "    }\n",
       "\n",
       "    .dataframe tbody tr th {\n",
       "        vertical-align: top;\n",
       "    }\n",
       "\n",
       "    .dataframe thead th {\n",
       "        text-align: right;\n",
       "    }\n",
       "</style>\n",
       "<table border=\"1\" class=\"dataframe\">\n",
       "  <thead>\n",
       "    <tr style=\"text-align: right;\">\n",
       "      <th></th>\n",
       "      <th>statuses_count</th>\n",
       "      <th>followers_count</th>\n",
       "      <th>friends_count</th>\n",
       "      <th>favourites_count</th>\n",
       "      <th>listed_count</th>\n",
       "      <th>url</th>\n",
       "      <th>default_profile</th>\n",
       "      <th>default_profile_image</th>\n",
       "      <th>geo_enabled</th>\n",
       "      <th>profile_banner_url</th>\n",
       "      <th>profile_use_background_image</th>\n",
       "      <th>profile_background_tile</th>\n",
       "      <th>bot</th>\n",
       "      <th>descr_longr_5</th>\n",
       "    </tr>\n",
       "  </thead>\n",
       "  <tbody>\n",
       "    <tr>\n",
       "      <th>statuses_count</th>\n",
       "      <td>1.000000</td>\n",
       "      <td>0.074241</td>\n",
       "      <td>0.399657</td>\n",
       "      <td>0.432268</td>\n",
       "      <td>0.406561</td>\n",
       "      <td>0.260933</td>\n",
       "      <td>-0.294773</td>\n",
       "      <td>-0.011784</td>\n",
       "      <td>0.234040</td>\n",
       "      <td>0.316408</td>\n",
       "      <td>-0.080809</td>\n",
       "      <td>0.188934</td>\n",
       "      <td>-0.322735</td>\n",
       "      <td>0.128251</td>\n",
       "    </tr>\n",
       "    <tr>\n",
       "      <th>followers_count</th>\n",
       "      <td>0.074241</td>\n",
       "      <td>1.000000</td>\n",
       "      <td>0.107956</td>\n",
       "      <td>0.032073</td>\n",
       "      <td>0.510324</td>\n",
       "      <td>0.071857</td>\n",
       "      <td>-0.051772</td>\n",
       "      <td>-0.002660</td>\n",
       "      <td>0.021379</td>\n",
       "      <td>0.055402</td>\n",
       "      <td>-0.008234</td>\n",
       "      <td>0.006432</td>\n",
       "      <td>-0.050821</td>\n",
       "      <td>0.021721</td>\n",
       "    </tr>\n",
       "    <tr>\n",
       "      <th>friends_count</th>\n",
       "      <td>0.399657</td>\n",
       "      <td>0.107956</td>\n",
       "      <td>1.000000</td>\n",
       "      <td>0.176416</td>\n",
       "      <td>0.585346</td>\n",
       "      <td>0.126125</td>\n",
       "      <td>-0.121381</td>\n",
       "      <td>-0.012440</td>\n",
       "      <td>0.084069</td>\n",
       "      <td>0.081611</td>\n",
       "      <td>-0.011994</td>\n",
       "      <td>0.096829</td>\n",
       "      <td>-0.036776</td>\n",
       "      <td>-0.015536</td>\n",
       "    </tr>\n",
       "    <tr>\n",
       "      <th>favourites_count</th>\n",
       "      <td>0.432268</td>\n",
       "      <td>0.032073</td>\n",
       "      <td>0.176416</td>\n",
       "      <td>1.000000</td>\n",
       "      <td>0.074568</td>\n",
       "      <td>0.064378</td>\n",
       "      <td>-0.148081</td>\n",
       "      <td>0.000158</td>\n",
       "      <td>0.101764</td>\n",
       "      <td>0.178186</td>\n",
       "      <td>-0.021582</td>\n",
       "      <td>0.108274</td>\n",
       "      <td>-0.163759</td>\n",
       "      <td>0.067025</td>\n",
       "    </tr>\n",
       "    <tr>\n",
       "      <th>listed_count</th>\n",
       "      <td>0.406561</td>\n",
       "      <td>0.510324</td>\n",
       "      <td>0.585346</td>\n",
       "      <td>0.074568</td>\n",
       "      <td>1.000000</td>\n",
       "      <td>0.202370</td>\n",
       "      <td>-0.141999</td>\n",
       "      <td>-0.007309</td>\n",
       "      <td>0.112214</td>\n",
       "      <td>0.132202</td>\n",
       "      <td>-0.066718</td>\n",
       "      <td>0.051769</td>\n",
       "      <td>-0.141662</td>\n",
       "      <td>0.059065</td>\n",
       "    </tr>\n",
       "    <tr>\n",
       "      <th>url</th>\n",
       "      <td>0.260933</td>\n",
       "      <td>0.071857</td>\n",
       "      <td>0.126125</td>\n",
       "      <td>0.064378</td>\n",
       "      <td>0.202370</td>\n",
       "      <td>1.000000</td>\n",
       "      <td>-0.423796</td>\n",
       "      <td>-0.028978</td>\n",
       "      <td>0.354011</td>\n",
       "      <td>0.332926</td>\n",
       "      <td>-0.120545</td>\n",
       "      <td>0.233416</td>\n",
       "      <td>-0.441359</td>\n",
       "      <td>0.154851</td>\n",
       "    </tr>\n",
       "    <tr>\n",
       "      <th>default_profile</th>\n",
       "      <td>-0.294773</td>\n",
       "      <td>-0.051772</td>\n",
       "      <td>-0.121381</td>\n",
       "      <td>-0.148081</td>\n",
       "      <td>-0.141999</td>\n",
       "      <td>-0.423796</td>\n",
       "      <td>1.000000</td>\n",
       "      <td>0.035833</td>\n",
       "      <td>-0.470905</td>\n",
       "      <td>-0.568878</td>\n",
       "      <td>0.193232</td>\n",
       "      <td>-0.590658</td>\n",
       "      <td>0.641482</td>\n",
       "      <td>-0.150151</td>\n",
       "    </tr>\n",
       "    <tr>\n",
       "      <th>default_profile_image</th>\n",
       "      <td>-0.011784</td>\n",
       "      <td>-0.002660</td>\n",
       "      <td>-0.012440</td>\n",
       "      <td>0.000158</td>\n",
       "      <td>-0.007309</td>\n",
       "      <td>-0.028978</td>\n",
       "      <td>0.035833</td>\n",
       "      <td>1.000000</td>\n",
       "      <td>-0.021570</td>\n",
       "      <td>-0.025783</td>\n",
       "      <td>0.009199</td>\n",
       "      <td>-0.020252</td>\n",
       "      <td>-0.055978</td>\n",
       "      <td>-0.089404</td>\n",
       "    </tr>\n",
       "    <tr>\n",
       "      <th>geo_enabled</th>\n",
       "      <td>0.234040</td>\n",
       "      <td>0.021379</td>\n",
       "      <td>0.084069</td>\n",
       "      <td>0.101764</td>\n",
       "      <td>0.112214</td>\n",
       "      <td>0.354011</td>\n",
       "      <td>-0.470905</td>\n",
       "      <td>-0.021570</td>\n",
       "      <td>1.000000</td>\n",
       "      <td>0.453350</td>\n",
       "      <td>-0.130363</td>\n",
       "      <td>0.258242</td>\n",
       "      <td>-0.535416</td>\n",
       "      <td>0.142821</td>\n",
       "    </tr>\n",
       "    <tr>\n",
       "      <th>profile_banner_url</th>\n",
       "      <td>0.316408</td>\n",
       "      <td>0.055402</td>\n",
       "      <td>0.081611</td>\n",
       "      <td>0.178186</td>\n",
       "      <td>0.132202</td>\n",
       "      <td>0.332926</td>\n",
       "      <td>-0.568878</td>\n",
       "      <td>-0.025783</td>\n",
       "      <td>0.453350</td>\n",
       "      <td>1.000000</td>\n",
       "      <td>-0.146982</td>\n",
       "      <td>0.339583</td>\n",
       "      <td>-0.675197</td>\n",
       "      <td>0.232836</td>\n",
       "    </tr>\n",
       "    <tr>\n",
       "      <th>profile_use_background_image</th>\n",
       "      <td>-0.080809</td>\n",
       "      <td>-0.008234</td>\n",
       "      <td>-0.011994</td>\n",
       "      <td>-0.021582</td>\n",
       "      <td>-0.066718</td>\n",
       "      <td>-0.120545</td>\n",
       "      <td>0.193232</td>\n",
       "      <td>0.009199</td>\n",
       "      <td>-0.130363</td>\n",
       "      <td>-0.146982</td>\n",
       "      <td>1.000000</td>\n",
       "      <td>-0.015194</td>\n",
       "      <td>0.148359</td>\n",
       "      <td>-0.042202</td>\n",
       "    </tr>\n",
       "    <tr>\n",
       "      <th>profile_background_tile</th>\n",
       "      <td>0.188934</td>\n",
       "      <td>0.006432</td>\n",
       "      <td>0.096829</td>\n",
       "      <td>0.108274</td>\n",
       "      <td>0.051769</td>\n",
       "      <td>0.233416</td>\n",
       "      <td>-0.590658</td>\n",
       "      <td>-0.020252</td>\n",
       "      <td>0.258242</td>\n",
       "      <td>0.339583</td>\n",
       "      <td>-0.015194</td>\n",
       "      <td>1.000000</td>\n",
       "      <td>-0.345493</td>\n",
       "      <td>0.076864</td>\n",
       "    </tr>\n",
       "    <tr>\n",
       "      <th>bot</th>\n",
       "      <td>-0.322735</td>\n",
       "      <td>-0.050821</td>\n",
       "      <td>-0.036776</td>\n",
       "      <td>-0.163759</td>\n",
       "      <td>-0.141662</td>\n",
       "      <td>-0.441359</td>\n",
       "      <td>0.641482</td>\n",
       "      <td>-0.055978</td>\n",
       "      <td>-0.535416</td>\n",
       "      <td>-0.675197</td>\n",
       "      <td>0.148359</td>\n",
       "      <td>-0.345493</td>\n",
       "      <td>1.000000</td>\n",
       "      <td>-0.288051</td>\n",
       "    </tr>\n",
       "    <tr>\n",
       "      <th>descr_longr_5</th>\n",
       "      <td>0.128251</td>\n",
       "      <td>0.021721</td>\n",
       "      <td>-0.015536</td>\n",
       "      <td>0.067025</td>\n",
       "      <td>0.059065</td>\n",
       "      <td>0.154851</td>\n",
       "      <td>-0.150151</td>\n",
       "      <td>-0.089404</td>\n",
       "      <td>0.142821</td>\n",
       "      <td>0.232836</td>\n",
       "      <td>-0.042202</td>\n",
       "      <td>0.076864</td>\n",
       "      <td>-0.288051</td>\n",
       "      <td>1.000000</td>\n",
       "    </tr>\n",
       "  </tbody>\n",
       "</table>\n",
       "</div>"
      ],
      "text/plain": [
       "                              statuses_count  followers_count  friends_count  \\\n",
       "statuses_count                      1.000000         0.074241       0.399657   \n",
       "followers_count                     0.074241         1.000000       0.107956   \n",
       "friends_count                       0.399657         0.107956       1.000000   \n",
       "favourites_count                    0.432268         0.032073       0.176416   \n",
       "listed_count                        0.406561         0.510324       0.585346   \n",
       "url                                 0.260933         0.071857       0.126125   \n",
       "default_profile                    -0.294773        -0.051772      -0.121381   \n",
       "default_profile_image              -0.011784        -0.002660      -0.012440   \n",
       "geo_enabled                         0.234040         0.021379       0.084069   \n",
       "profile_banner_url                  0.316408         0.055402       0.081611   \n",
       "profile_use_background_image       -0.080809        -0.008234      -0.011994   \n",
       "profile_background_tile             0.188934         0.006432       0.096829   \n",
       "bot                                -0.322735        -0.050821      -0.036776   \n",
       "descr_longr_5                       0.128251         0.021721      -0.015536   \n",
       "\n",
       "                              favourites_count  listed_count       url  \\\n",
       "statuses_count                        0.432268      0.406561  0.260933   \n",
       "followers_count                       0.032073      0.510324  0.071857   \n",
       "friends_count                         0.176416      0.585346  0.126125   \n",
       "favourites_count                      1.000000      0.074568  0.064378   \n",
       "listed_count                          0.074568      1.000000  0.202370   \n",
       "url                                   0.064378      0.202370  1.000000   \n",
       "default_profile                      -0.148081     -0.141999 -0.423796   \n",
       "default_profile_image                 0.000158     -0.007309 -0.028978   \n",
       "geo_enabled                           0.101764      0.112214  0.354011   \n",
       "profile_banner_url                    0.178186      0.132202  0.332926   \n",
       "profile_use_background_image         -0.021582     -0.066718 -0.120545   \n",
       "profile_background_tile               0.108274      0.051769  0.233416   \n",
       "bot                                  -0.163759     -0.141662 -0.441359   \n",
       "descr_longr_5                         0.067025      0.059065  0.154851   \n",
       "\n",
       "                              default_profile  default_profile_image  \\\n",
       "statuses_count                      -0.294773              -0.011784   \n",
       "followers_count                     -0.051772              -0.002660   \n",
       "friends_count                       -0.121381              -0.012440   \n",
       "favourites_count                    -0.148081               0.000158   \n",
       "listed_count                        -0.141999              -0.007309   \n",
       "url                                 -0.423796              -0.028978   \n",
       "default_profile                      1.000000               0.035833   \n",
       "default_profile_image                0.035833               1.000000   \n",
       "geo_enabled                         -0.470905              -0.021570   \n",
       "profile_banner_url                  -0.568878              -0.025783   \n",
       "profile_use_background_image         0.193232               0.009199   \n",
       "profile_background_tile             -0.590658              -0.020252   \n",
       "bot                                  0.641482              -0.055978   \n",
       "descr_longr_5                       -0.150151              -0.089404   \n",
       "\n",
       "                              geo_enabled  profile_banner_url  \\\n",
       "statuses_count                   0.234040            0.316408   \n",
       "followers_count                  0.021379            0.055402   \n",
       "friends_count                    0.084069            0.081611   \n",
       "favourites_count                 0.101764            0.178186   \n",
       "listed_count                     0.112214            0.132202   \n",
       "url                              0.354011            0.332926   \n",
       "default_profile                 -0.470905           -0.568878   \n",
       "default_profile_image           -0.021570           -0.025783   \n",
       "geo_enabled                      1.000000            0.453350   \n",
       "profile_banner_url               0.453350            1.000000   \n",
       "profile_use_background_image    -0.130363           -0.146982   \n",
       "profile_background_tile          0.258242            0.339583   \n",
       "bot                             -0.535416           -0.675197   \n",
       "descr_longr_5                    0.142821            0.232836   \n",
       "\n",
       "                              profile_use_background_image  \\\n",
       "statuses_count                                   -0.080809   \n",
       "followers_count                                  -0.008234   \n",
       "friends_count                                    -0.011994   \n",
       "favourites_count                                 -0.021582   \n",
       "listed_count                                     -0.066718   \n",
       "url                                              -0.120545   \n",
       "default_profile                                   0.193232   \n",
       "default_profile_image                             0.009199   \n",
       "geo_enabled                                      -0.130363   \n",
       "profile_banner_url                               -0.146982   \n",
       "profile_use_background_image                      1.000000   \n",
       "profile_background_tile                          -0.015194   \n",
       "bot                                               0.148359   \n",
       "descr_longr_5                                    -0.042202   \n",
       "\n",
       "                              profile_background_tile       bot  descr_longr_5  \n",
       "statuses_count                               0.188934 -0.322735       0.128251  \n",
       "followers_count                              0.006432 -0.050821       0.021721  \n",
       "friends_count                                0.096829 -0.036776      -0.015536  \n",
       "favourites_count                             0.108274 -0.163759       0.067025  \n",
       "listed_count                                 0.051769 -0.141662       0.059065  \n",
       "url                                          0.233416 -0.441359       0.154851  \n",
       "default_profile                             -0.590658  0.641482      -0.150151  \n",
       "default_profile_image                       -0.020252 -0.055978      -0.089404  \n",
       "geo_enabled                                  0.258242 -0.535416       0.142821  \n",
       "profile_banner_url                           0.339583 -0.675197       0.232836  \n",
       "profile_use_background_image                -0.015194  0.148359      -0.042202  \n",
       "profile_background_tile                      1.000000 -0.345493       0.076864  \n",
       "bot                                         -0.345493  1.000000      -0.288051  \n",
       "descr_longr_5                                0.076864 -0.288051       1.000000  "
      ]
     },
     "execution_count": 7,
     "metadata": {},
     "output_type": "execute_result"
    }
   ],
   "source": [
    "df_users.corr()"
   ]
  },
  {
   "cell_type": "markdown",
   "metadata": {},
   "source": [
    "La variable default_profile tiene presenta una correlación de 0.64 con la variable de salida. Esto nos indica que será importante en el modelo"
   ]
  },
  {
   "cell_type": "markdown",
   "metadata": {},
   "source": [
    "## Training and testing division"
   ]
  },
  {
   "cell_type": "code",
   "execution_count": 8,
   "metadata": {},
   "outputs": [],
   "source": [
    "from sklearn.model_selection import train_test_split\n",
    "\n",
    "# fix random seed for reproducibility\n",
    "seed = 7\n",
    "np.random.seed(seed)\n",
    "\n",
    "y = df_users.loc[:, 'bot']\n",
    "X = df_users.loc[:, df_users.columns != 'bot']\n",
    "\n",
    "X_train, X_remain, y_train, y_remain \\\n",
    "    = train_test_split(X, y, train_size=0.8)\n",
    "\n",
    "X_test, X_val, y_test, y_val \\\n",
    "    = train_test_split(X_remain, y_remain, test_size=0.5)"
   ]
  },
  {
   "cell_type": "code",
   "execution_count": 9,
   "metadata": {},
   "outputs": [
    {
     "name": "stdout",
     "output_type": "stream",
     "text": [
      "(5301, 14)\n",
      "(4240, 13)\n",
      "(4240,)\n",
      "(530, 13)\n",
      "(530,)\n",
      "(531, 13)\n",
      "(531,)\n"
     ]
    }
   ],
   "source": [
    "print(df_users.shape)\n",
    "print(X_train.shape)\n",
    "print(y_train.shape)\n",
    "print(X_test.shape)\n",
    "print(y_test.shape)\n",
    "print(X_val.shape)\n",
    "print(y_val.shape)"
   ]
  },
  {
   "cell_type": "markdown",
   "metadata": {},
   "source": [
    "## Model implementation"
   ]
  },
  {
   "cell_type": "code",
   "execution_count": 10,
   "metadata": {},
   "outputs": [
    {
     "name": "stderr",
     "output_type": "stream",
     "text": [
      "Using TensorFlow backend.\n"
     ]
    }
   ],
   "source": [
    "from keras.models import Sequential, Model\n",
    "from keras.layers import Input, Dense\n",
    "from keras.utils import plot_model\n",
    "from keras.wrappers.scikit_learn import KerasClassifier\n",
    "from sklearn.model_selection import StratifiedKFold, cross_val_score\n",
    "from sklearn.metrics import classification_report, confusion_matrix\n",
    "import keras\n",
    "\n",
    "epochs = 10\n",
    "batch_size = 5"
   ]
  },
  {
   "cell_type": "code",
   "execution_count": 11,
   "metadata": {},
   "outputs": [
    {
     "name": "stderr",
     "output_type": "stream",
     "text": [
      "WARNING: Logging before flag parsing goes to stderr.\n",
      "W0802 13:10:54.323359 140460422309696 deprecation_wrapper.py:119] From /home/osboxes/miniconda3/envs/tfm/lib/python3.7/site-packages/keras/backend/tensorflow_backend.py:74: The name tf.get_default_graph is deprecated. Please use tf.compat.v1.get_default_graph instead.\n",
      "\n",
      "W0802 13:10:54.348275 140460422309696 deprecation_wrapper.py:119] From /home/osboxes/miniconda3/envs/tfm/lib/python3.7/site-packages/keras/backend/tensorflow_backend.py:517: The name tf.placeholder is deprecated. Please use tf.compat.v1.placeholder instead.\n",
      "\n",
      "W0802 13:10:54.351303 140460422309696 deprecation_wrapper.py:119] From /home/osboxes/miniconda3/envs/tfm/lib/python3.7/site-packages/keras/backend/tensorflow_backend.py:4115: The name tf.random_normal is deprecated. Please use tf.random.normal instead.\n",
      "\n",
      "W0802 13:10:54.392239 140460422309696 deprecation_wrapper.py:119] From /home/osboxes/miniconda3/envs/tfm/lib/python3.7/site-packages/keras/optimizers.py:790: The name tf.train.Optimizer is deprecated. Please use tf.compat.v1.train.Optimizer instead.\n",
      "\n",
      "W0802 13:10:54.420469 140460422309696 deprecation_wrapper.py:119] From /home/osboxes/miniconda3/envs/tfm/lib/python3.7/site-packages/keras/backend/tensorflow_backend.py:3376: The name tf.log is deprecated. Please use tf.math.log instead.\n",
      "\n",
      "W0802 13:10:54.425381 140460422309696 deprecation.py:323] From /home/osboxes/miniconda3/envs/tfm/lib/python3.7/site-packages/tensorflow/python/ops/nn_impl.py:180: add_dispatch_support.<locals>.wrapper (from tensorflow.python.ops.array_ops) is deprecated and will be removed in a future version.\n",
      "Instructions for updating:\n",
      "Use tf.where in 2.0, which has the same broadcast rule as np.where\n"
     ]
    },
    {
     "name": "stdout",
     "output_type": "stream",
     "text": [
      "_________________________________________________________________\n",
      "Layer (type)                 Output Shape              Param #   \n",
      "=================================================================\n",
      "dense_1 (Dense)              (None, 10)                140       \n",
      "_________________________________________________________________\n",
      "dense_2 (Dense)              (None, 5)                 55        \n",
      "_________________________________________________________________\n",
      "dense_3 (Dense)              (None, 1)                 6         \n",
      "=================================================================\n",
      "Total params: 201\n",
      "Trainable params: 201\n",
      "Non-trainable params: 0\n",
      "_________________________________________________________________\n"
     ]
    }
   ],
   "source": [
    "def auc(y_true, y_pred):\n",
    "    auc = tf.metrics.auc(y_true, y_pred)[1]\n",
    "    K.get_session().run(tf.local_variables_initializer())\n",
    "    return auc\n",
    "\n",
    "\n",
    "def create_baseline():\n",
    "    # create model\n",
    "    model = Sequential()\n",
    "    model.add(Dense(10, input_dim=13, kernel_initializer='normal', activation='relu'))\n",
    "    model.add(Dense(5, kernel_initializer='normal', activation='relu'))\n",
    "    model.add(Dense(1, kernel_initializer='normal', activation='sigmoid'))\n",
    "    \n",
    "    # Compile model\n",
    "    model.compile(loss='binary_crossentropy', optimizer='adam', metrics=['accuracy'])\n",
    "    return model\n",
    "    \n",
    "\n",
    "# evaluate model with standardized dataset\n",
    "model = create_baseline()\n",
    "\n",
    "model.summary()\n",
    "\n",
    "plot_model(model, to_file='model.png')"
   ]
  },
  {
   "cell_type": "markdown",
   "metadata": {},
   "source": [
    "Mean estimated accuracy and standard deviation (average spread)"
   ]
  },
  {
   "cell_type": "code",
   "execution_count": 12,
   "metadata": {},
   "outputs": [
    {
     "name": "stderr",
     "output_type": "stream",
     "text": [
      "W0802 13:11:03.091368 140460422309696 deprecation_wrapper.py:119] From /home/osboxes/miniconda3/envs/tfm/lib/python3.7/site-packages/keras/backend/tensorflow_backend.py:986: The name tf.assign_add is deprecated. Please use tf.compat.v1.assign_add instead.\n",
      "\n"
     ]
    },
    {
     "name": "stdout",
     "output_type": "stream",
     "text": [
      "Train Results: 97.52% (0.54%)\n"
     ]
    }
   ],
   "source": [
    "estimator = KerasClassifier(build_fn=create_baseline, epochs=epochs, batch_size=batch_size, verbose=0)\n",
    "\n",
    "kfold = StratifiedKFold(n_splits=10, shuffle=True, random_state=seed)\n",
    "results_train = cross_val_score(estimator, X_train, y_train, cv=kfold)\n",
    "\n",
    "print(\"Train Results: %.2f%% (%.2f%%)\" % (results_train.mean()*100, results_train.std()*100))"
   ]
  },
  {
   "cell_type": "code",
   "execution_count": 13,
   "metadata": {},
   "outputs": [
    {
     "name": "stdout",
     "output_type": "stream",
     "text": [
      "Epoch 1/10\n",
      "4240/4240 [==============================] - 5s 1ms/step - loss: 0.2895 - acc: 0.9123\n",
      "Epoch 2/10\n",
      "4240/4240 [==============================] - 4s 964us/step - loss: 0.1806 - acc: 0.9634\n",
      "Epoch 3/10\n",
      "4240/4240 [==============================] - 4s 907us/step - loss: 0.1520 - acc: 0.9712\n",
      "Epoch 4/10\n",
      "4240/4240 [==============================] - 4s 929us/step - loss: 0.1328 - acc: 0.9750\n",
      "Epoch 5/10\n",
      "4240/4240 [==============================] - 4s 893us/step - loss: 0.1180 - acc: 0.9771\n",
      "Epoch 6/10\n",
      "4240/4240 [==============================] - 4s 979us/step - loss: 0.1065 - acc: 0.9797\n",
      "Epoch 7/10\n",
      "4240/4240 [==============================] - 5s 1ms/step - loss: 0.1020 - acc: 0.9783\n",
      "Epoch 8/10\n",
      "4240/4240 [==============================] - 4s 937us/step - loss: 0.0998 - acc: 0.9783\n",
      "Epoch 9/10\n",
      "4240/4240 [==============================] - 4s 914us/step - loss: 0.0905 - acc: 0.9788\n",
      "Epoch 10/10\n",
      "4240/4240 [==============================] - 4s 966us/step - loss: 0.0872 - acc: 0.9797\n"
     ]
    },
    {
     "data": {
      "text/plain": [
       "<keras.callbacks.History at 0x7fbf359cdcf8>"
      ]
     },
     "execution_count": 13,
     "metadata": {},
     "output_type": "execute_result"
    }
   ],
   "source": [
    "# x_train and y_train are Numpy arrays --just like in the Scikit-Learn API.\n",
    "model.fit(X_train, y_train, epochs=epochs, batch_size=batch_size)"
   ]
  },
  {
   "cell_type": "code",
   "execution_count": 15,
   "metadata": {},
   "outputs": [
    {
     "name": "stdout",
     "output_type": "stream",
     "text": [
      "Test loss: 0.0746435912150257\n",
      "Train accuracy: 0.9804245283018868\n"
     ]
    }
   ],
   "source": [
    "score = model.evaluate(X_train, y_train, verbose=0)\n",
    "print('Test loss:', score[0])\n",
    "print('Train accuracy:', score[1])"
   ]
  },
  {
   "cell_type": "code",
   "execution_count": 16,
   "metadata": {},
   "outputs": [
    {
     "name": "stdout",
     "output_type": "stream",
     "text": [
      "Test loss: 0.09531562806300398\n",
      "Test accuracy: 0.9716981123078544\n"
     ]
    }
   ],
   "source": [
    "score = model.evaluate(X_test, y_test, verbose=0)\n",
    "print('Test loss:', score[0])\n",
    "print('Test accuracy:', score[1])"
   ]
  },
  {
   "cell_type": "code",
   "execution_count": 24,
   "metadata": {},
   "outputs": [
    {
     "name": "stdout",
     "output_type": "stream",
     "text": [
      "Validation loss: 0.09663098949497029\n",
      "Validation accuracy: 0.9792843699006262\n"
     ]
    }
   ],
   "source": [
    "score = model.evaluate(X_val, y_val, verbose=0)\n",
    "print('Validation loss:', score[0])\n",
    "print('Validation accuracy:', score[1])"
   ]
  },
  {
   "cell_type": "markdown",
   "metadata": {},
   "source": [
    "Test accuracy for 10 k-fold cross validation"
   ]
  },
  {
   "cell_type": "code",
   "execution_count": 18,
   "metadata": {},
   "outputs": [
    {
     "name": "stdout",
     "output_type": "stream",
     "text": [
      "Train Results: 97.52% (0.54%)\n"
     ]
    }
   ],
   "source": [
    "print(\"Train Results: %.2f%% (%.2f%%)\" % (results_train.mean()*100, results_train.std()*100))"
   ]
  },
  {
   "cell_type": "code",
   "execution_count": 20,
   "metadata": {},
   "outputs": [],
   "source": [
    "y_pred = model.predict_classes(X_test, batch_size=batch_size)\n",
    "y_pred\n",
    "\n",
    "tn, fp, fn, tp = confusion_matrix(y_test, y_pred).ravel()"
   ]
  },
  {
   "cell_type": "code",
   "execution_count": 21,
   "metadata": {},
   "outputs": [],
   "source": [
    "accuracy = (tp + tn)/(tp + tn + fp + fn)\n",
    "precission = tp/(tp+tn)"
   ]
  },
  {
   "cell_type": "code",
   "execution_count": 22,
   "metadata": {},
   "outputs": [
    {
     "data": {
      "text/plain": [
       "0.9716981132075472"
      ]
     },
     "execution_count": 22,
     "metadata": {},
     "output_type": "execute_result"
    }
   ],
   "source": [
    "accuracy"
   ]
  },
  {
   "cell_type": "code",
   "execution_count": 23,
   "metadata": {},
   "outputs": [
    {
     "data": {
      "text/plain": [
       "0.6213592233009708"
      ]
     },
     "execution_count": 23,
     "metadata": {},
     "output_type": "execute_result"
    }
   ],
   "source": [
    "precission"
   ]
  }
 ],
 "metadata": {
  "kernelspec": {
   "display_name": "Python 3",
   "language": "python",
   "name": "python3"
  },
  "language_info": {
   "codemirror_mode": {
    "name": "ipython",
    "version": 3
   },
   "file_extension": ".py",
   "mimetype": "text/x-python",
   "name": "python",
   "nbconvert_exporter": "python",
   "pygments_lexer": "ipython3",
   "version": "3.7.3"
  }
 },
 "nbformat": 4,
 "nbformat_minor": 2
}
