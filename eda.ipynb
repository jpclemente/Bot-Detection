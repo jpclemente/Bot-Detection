{
 "cells": [
  {
   "cell_type": "code",
   "execution_count": null,
   "metadata": {},
   "outputs": [],
   "source": [
    "import pandas as pd\n",
    "import os"
   ]
  },
  {
   "cell_type": "code",
   "execution_count": null,
   "metadata": {},
   "outputs": [],
   "source": [
    "tweets_path = './data/cresci-2017.csv/datasets_full.csv/traditional_spambots_1.csv/tweets.csv'\n",
    "\n",
    "with open(tweets_path, 'rb') as file:\n",
    "    df = pd.read_csv(file)\n",
    "    print(df['user_id'].unique().__len__())\n",
    "\n",
    "users_path = './data/cresci-2017.csv/datasets_full.csv/traditional_spambots_1.csv/users.csv'\n",
    "\n",
    "with open(users_path, 'rb') as file:\n",
    "    df = pd.read_csv(file)"
   ]
  },
  {
   "cell_type": "code",
   "execution_count": null,
   "metadata": {},
   "outputs": [],
   "source": [
    "users2_path = './data/cresci-2017.csv/datasets_full.csv/traditional_spambots_2.csv/users.csv'\n",
    "\n",
    "with open(users2_path, 'rb') as file:\n",
    "    df2 = pd.read_csv(file)"
   ]
  },
  {
   "cell_type": "code",
   "execution_count": null,
   "metadata": {},
   "outputs": [],
   "source": [
    "total_df = pd.concat([df, df2])\n",
    "\n",
    "total_df['id'].unique().__len__()"
   ]
  },
  {
   "cell_type": "code",
   "execution_count": null,
   "metadata": {},
   "outputs": [],
   "source": [
    "from_folder = './data/cresci-2015.csv/'\n",
    "files = sorted(os.listdir(from_folder))\n",
    "df = pd.DataFrame()\n",
    "for file in files:\n",
    "    if os.path.isdir(from_folder+file):\n",
    "        with open(from_folder+file+'/users.csv', 'rb') as f:\n",
    "            df = pd.concat([df, pd.read_csv(f)])\n",
    "    "
   ]
  },
  {
   "cell_type": "code",
   "execution_count": null,
   "metadata": {},
   "outputs": [],
   "source": [
    "df['followers_count']"
   ]
  },
  {
   "cell_type": "code",
   "execution_count": null,
   "metadata": {},
   "outputs": [],
   "source": [
    "df.dtypes"
   ]
  }
 ],
 "metadata": {
  "kernelspec": {
   "display_name": "Python 3",
   "language": "python",
   "name": "python3"
  },
  "language_info": {
   "codemirror_mode": {
    "name": "ipython",
    "version": 3
   },
   "file_extension": ".py",
   "mimetype": "text/x-python",
   "name": "python",
   "nbconvert_exporter": "python",
   "pygments_lexer": "ipython3",
   "version": "3.7.3"
  }
 },
 "nbformat": 4,
 "nbformat_minor": 2
}
